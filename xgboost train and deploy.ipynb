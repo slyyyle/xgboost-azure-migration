{
  "cells": [
    {
      "attachments": {},
      "cell_type": "markdown",
      "metadata": {
        "nteract": {
          "transient": {
            "deleting": false
          }
        }
      },
      "source": [
        "#### Creating a handle to workspace:"
      ]
    },
    {
      "cell_type": "code",
      "execution_count": 70,
      "metadata": {
        "gather": {
          "logged": 1685635335782
        }
      },
      "outputs": [],
      "source": [
        "from azure.ai.ml import MLClient\n",
        "from azure.identity import DefaultAzureCredential\n",
        "\n",
        "#authenticate\n",
        "credential = DefaultAzureCredential()\n",
        "\n",
        "#removed my personal account information for obvious reasons\n",
        "ml_client = MLClient(\n",
        "    credential=credential,\n",
        "    subscription_id=\"ENTER YOUR SUBSCRIPTION ID\",\n",
        "    resource_group_name=\"NAME OF YOUR RESOURCE GROUP\",\n",
        "    workspace_name=\"NAME OF YOUR WORKSPACE\",\n",
        ")"
      ]
    },
    {
      "cell_type": "code",
      "execution_count": 71,
      "metadata": {
        "gather": {
          "logged": 1685635337498
        },
        "jupyter": {
          "outputs_hidden": false,
          "source_hidden": false
        },
        "nteract": {
          "transient": {
            "deleting": false
          }
        }
      },
      "outputs": [],
      "source": [
        "import os\n",
        "\n",
        "dependencies_dir = \"./dependencies\"\n",
        "os.makedirs(dependencies_dir, exist_ok=True)"
      ]
    },
    {
      "cell_type": "code",
      "execution_count": 72,
      "metadata": {
        "gather": {
          "logged": 1685635338415
        },
        "jupyter": {
          "outputs_hidden": false,
          "source_hidden": false
        },
        "nteract": {
          "transient": {
            "deleting": false
          }
        }
      },
      "outputs": [],
      "source": [
        "import os\n",
        "\n",
        "train_src_dir = \"./src\"\n",
        "os.makedirs(train_src_dir, exist_ok=True)"
      ]
    },
    {
      "cell_type": "code",
      "execution_count": 73,
      "metadata": {
        "jupyter": {
          "outputs_hidden": false,
          "source_hidden": false
        },
        "nteract": {
          "transient": {
            "deleting": false
          }
        }
      },
      "outputs": [
        {
          "name": "stdout",
          "output_type": "stream",
          "text": [
            "Overwriting ./src/main.py\n"
          ]
        }
      ],
      "source": [
        "%%writefile {train_src_dir}/main.py\n",
        "import os\n",
        "import argparse\n",
        "import pandas as pd\n",
        "import numpy as np\n",
        "import mlflow\n",
        "import mlflow.xgboost\n",
        "from xgboost import XGBClassifier\n",
        "from sklearn.model_selection import train_test_split\n",
        "from sklearn.metrics import accuracy_score, classification_report, roc_curve, roc_auc_score, f1_score, auc, confusion_matrix\n",
        "from sklearn.preprocessing import LabelEncoder\n",
        "import matplotlib.pyplot as plt\n",
        "    \n",
        "def roc_auc_plot(Y_test, Y_preds):\n",
        "    fpr, tpr, threshold = roc_curve(Y_test, Y_preds)\n",
        "    roc_auc = auc(fpr, tpr)\n",
        "    plt.title('Receiver Operating Characteristic')\n",
        "    plt.plot(fpr, tpr, 'b', label = 'AUC = %0.2f' % roc_auc)\n",
        "    plt.legend(loc = 'lower right')\n",
        "    plt.plot([0, 1], [0, 1],'r--')\n",
        "    plt.ylabel('True Positive Rate')\n",
        "    plt.xlabel('False Positive Rate')\n",
        "    plt.savefig('roc.png')\n",
        "    mlflow.log_artifact('roc.png')\n",
        "    plt.close()\n",
        "\n",
        "def confusion_matrix_plot(Y_test, Y_preds):\n",
        "    cm = confusion_matrix(Y_test, Y_preds)\n",
        "    plt.imshow(cm, interpolation='nearest', cmap=plt.cm.Wistia)\n",
        "    classNames = ['0','1']\n",
        "    plt.title('Confusion Matrix')\n",
        "    plt.ylabel('True label')\n",
        "    plt.xlabel('Predicted label')\n",
        "    tick_marks = np.arange(len(classNames))\n",
        "    plt.xticks(tick_marks, classNames, rotation=45)\n",
        "    plt.yticks(tick_marks, classNames)\n",
        "    s = [['TN','FP'], ['FN', 'TP']]\n",
        "\n",
        "    for i in range(2):\n",
        "        for j in range(2):\n",
        "            plt.text(j,i, str(s[i][j])+\" = \"+str(cm[i][j]))\n",
        "    plt.savefig('confusion_matrix.png')\n",
        "    mlflow.log_artifact('confusion_matrix.png')\n",
        "    plt.close()\n",
        "\n",
        "def main():\n",
        "    \"\"\"Main function of the script.\"\"\"\n",
        "\n",
        "    ##################################\n",
        "    #<initialize arguments and mlflow>\n",
        "    ##################################\n",
        "\n",
        "    # input and output arguments\n",
        "    parser = argparse.ArgumentParser()\n",
        "    parser.add_argument(\"--data\", type=str, help=\"path to input data\")\n",
        "    parser.add_argument(\"--test_train_ratio\", type=float, required=False, default=0.25)\n",
        "    parser.add_argument(\"--registered_model_name\", type=str, help=\"model name\")\n",
        "    parser.add_argument(\"--proba_threshold\", type=float, required=False, default=0.20)   \n",
        "\n",
        "    args = parser.parse_args()\n",
        "   \n",
        "    # Start Logging\n",
        "    mlflow.start_run()\n",
        "\n",
        "    # enable autologging\n",
        "    mlflow.xgboost.autolog()\n",
        "\n",
        "    ###################\n",
        "    #<prepare the data>\n",
        "    ###################\n",
        "    print(\" \".join(f\"{k}={v}\" for k, v in vars(args).items()))\n",
        "\n",
        "    print(\"input data:\", args.data)\n",
        "    \n",
        "    diabetes_df = pd.read_csv(args.data)\n",
        "\n",
        "    mlflow.log_metric(\"num_samples\", diabetes_df.shape[0])\n",
        "    mlflow.log_metric(\"num_features\", diabetes_df.shape[1] - 1)\n",
        "\n",
        "    categorical_columns = ['gender','smoking_history']\n",
        "\n",
        "    label_encoder = LabelEncoder()\n",
        "\n",
        "    for col in categorical_columns:\n",
        "        diabetes_df[col] = label_encoder.fit_transform(diabetes_df[col])\n",
        "\n",
        "    X = diabetes_df.drop('diabetes', axis=1)\n",
        "    Y = diabetes_df['diabetes']\n",
        "\n",
        "    X_train, X_test, Y_train, Y_test = train_test_split(X,Y,test_size=args.test_train_ratio)\n",
        "\n",
        "    ##################\n",
        "    #<train the model>\n",
        "    ###################\n",
        "    print(f\"Training with data of shape {X_train.shape}\")\n",
        "\n",
        "    model = XGBClassifier()\n",
        "    model.fit(X_train, Y_train)\n",
        "    Y_proba = model.predict_proba(X_test)\n",
        "    Y_pred = (Y_proba[:, 1] >= args.proba_threshold).astype(int)\n",
        "\n",
        "    mlflow.log_metric(\"accuracy\", accuracy_score(Y_test,Y_pred))\n",
        "    mlflow.log_metric(\"f1 score\", f1_score(Y_test,Y_pred))\n",
        "    mlflow.log_metric(\"roc auc score\", roc_auc_score(Y_test, Y_pred))\n",
        "\n",
        "    roc_auc_plot(Y_test,Y_pred)\n",
        "    confusion_matrix_plot(Y_test,Y_pred)\n",
        "\n",
        "    print(classification_report(Y_test, Y_pred))\n",
        "\n",
        "    ##########################\n",
        "    #<save and register model>\n",
        "    ##########################\n",
        "    # Registering the model to the workspace\n",
        "    print(\"Registering the model via MLFlow\")\n",
        "    mlflow.xgboost.log_model(\n",
        "        xgb_model=model,\n",
        "        registered_model_name=args.registered_model_name,\n",
        "        artifact_path=args.registered_model_name,\n",
        "    )\n",
        "\n",
        "    # Saving the model to a file\n",
        "    mlflow.xgboost.save_model(\n",
        "        xgb_model=model,\n",
        "        path=os.path.join(args.registered_model_name, \"trained_model\"),\n",
        "    )\n",
        "    \n",
        "    # Stop Logging\n",
        "    mlflow.end_run()\n",
        "\n",
        "if __name__ == \"__main__\":\n",
        "    main()"
      ]
    },
    {
      "cell_type": "code",
      "execution_count": 74,
      "metadata": {
        "gather": {
          "logged": 1685635341475
        },
        "jupyter": {
          "outputs_hidden": false,
          "source_hidden": false
        },
        "nteract": {
          "transient": {
            "deleting": false
          }
        }
      },
      "outputs": [],
      "source": [
        "from azure.ai.ml import command\n",
        "from azure.ai.ml import Input\n",
        "\n",
        "registered_model_name = \"diabetes_xgboost_model\"\n",
        "\n",
        "job = command(\n",
        "    inputs=dict(\n",
        "        data=Input(\n",
        "            type=\"uri_file\",\n",
        "            path=\"azureml://subscriptions/e29434d7-433a-4d49-96cb-cd1fc7230c68/resourcegroups/myResourceGroup0001/workspaces/learning-azure-eastus2/datastores/workspaceblobstore/paths/UI/2023-06-01_132255_UTC/diabetes_prediction_dataset.csv\",\n",
        "        ),\n",
        "        test_train_ratio=0.25,\n",
        "        proba_threshold=0.20,\n",
        "        registered_model_name=registered_model_name,\n",
        "    ),\n",
        "    code=\"./src/\",  # location of source code\n",
        "    command=\"python main.py --data ${{inputs.data}} --test_train_ratio ${{inputs.test_train_ratio}} --proba_threshold ${{inputs.proba_threshold}} --registered_model_name ${{inputs.registered_model_name}}\",\n",
        "    environment=\"AzureML-lightgbm-3.2-ubuntu18.04-py37-cpu@latest\",\n",
        "    compute=\"khammitt1-devlight-ds11\",\n",
        "    experiment_name=\"train_model_xgboost_diabetes\",\n",
        "    display_name=\"xgboost_diabetes\",\n",
        ")"
      ]
    },
    {
      "cell_type": "code",
      "execution_count": 75,
      "metadata": {
        "gather": {
          "logged": 1685635345076
        },
        "jupyter": {
          "outputs_hidden": false,
          "source_hidden": false
        },
        "nteract": {
          "transient": {
            "deleting": false
          }
        }
      },
      "outputs": [
        {
          "name": "stderr",
          "output_type": "stream",
          "text": [
            "\r\u001b[32mUploading src (0.0 MBs):   0%|          | 0/4156 [00:00<?, ?it/s]\r\u001b[32mUploading src (0.0 MBs): 100%|██████████| 4156/4156 [00:00<00:00, 345356.57it/s]\n",
            "\u001b[39m\n",
            "\n"
          ]
        },
        {
          "data": {
            "text/html": [
              "<table style=\"width:100%\"><tr><th>Experiment</th><th>Name</th><th>Type</th><th>Status</th><th>Details Page</th></tr><tr><td>train_model_xgboost_diabetes</td><td>great_lychee_3718564h18</td><td>command</td><td>Starting</td><td><a href=\"https://ml.azure.com/runs/great_lychee_3718564h18?wsid=/subscriptions/e29434d7-433a-4d49-96cb-cd1fc7230c68/resourcegroups/myresourcegroup0001/workspaces/learning-azure-eastus2&amp;tid=7134ab64-acd2-4627-a2b7-045f5145311a\" target=\"_blank\" rel=\"noopener\">Link to Azure Machine Learning studio</a></td></tr></table>"
            ],
            "text/plain": [
              "Command({'parameters': {}, 'init': False, 'type': 'command', 'status': 'Starting', 'log_files': None, 'name': 'great_lychee_3718564h18', 'description': None, 'tags': {}, 'properties': {'_azureml.ComputeTargetType': 'amlcdsi', 'ContentSnapshotId': '230c93ed-b0e1-466a-9167-7e409524d6c7'}, 'print_as_yaml': True, 'id': '/subscriptions/e29434d7-433a-4d49-96cb-cd1fc7230c68/resourceGroups/myresourcegroup0001/providers/Microsoft.MachineLearningServices/workspaces/learning-azure-eastus2/jobs/great_lychee_3718564h18', 'Resource__source_path': None, 'base_path': '/mnt/batch/tasks/shared/LS_root/mounts/clusters/khammitt1-devlight-ds11/code/Users/khammitt1/xgboost-diabetes', 'creation_context': <azure.ai.ml.entities._system_data.SystemData object at 0x7fcb34844790>, 'serialize': <msrest.serialization.Serializer object at 0x7fcb248b7820>, 'allowed_keys': {}, 'key_restriction': False, 'logger': <Logger attr_dict (WARNING)>, 'display_name': 'xgboost_diabetes', 'experiment_name': 'train_model_xgboost_diabetes', 'compute': 'khammitt1-devlight-ds11', 'services': {'Tracking': <azure.ai.ml.entities._job.job_service.JobService object at 0x7fcb24803790>, 'Studio': <azure.ai.ml.entities._job.job_service.JobService object at 0x7fcb38310be0>}, 'comment': None, 'job_inputs': {'data': {'type': 'uri_file', 'path': 'azureml://subscriptions/e29434d7-433a-4d49-96cb-cd1fc7230c68/resourcegroups/myResourceGroup0001/workspaces/learning-azure-eastus2/datastores/workspaceblobstore/paths/UI/2023-06-01_132255_UTC/diabetes_prediction_dataset.csv', 'mode': 'ro_mount'}, 'test_train_ratio': '0.25', 'proba_threshold': '0.2', 'registered_model_name': 'diabetes_xgboost_model'}, 'job_outputs': {'default': {'type': 'uri_folder', 'path': 'azureml://datastores/workspaceartifactstore/ExperimentRun/dcid.great_lychee_3718564h18', 'mode': 'rw_mount'}}, 'inputs': {'data': <azure.ai.ml.entities._job.pipeline._io.base.NodeInput object at 0x7fcb248b7490>, 'test_train_ratio': <azure.ai.ml.entities._job.pipeline._io.base.NodeInput object at 0x7fcb248b79a0>, 'proba_threshold': <azure.ai.ml.entities._job.pipeline._io.base.NodeInput object at 0x7fcb248b77c0>, 'registered_model_name': <azure.ai.ml.entities._job.pipeline._io.base.NodeInput object at 0x7fcb248b73d0>}, 'outputs': {'default': <azure.ai.ml.entities._job.pipeline._io.base.NodeOutput object at 0x7fcb248b75b0>}, 'component': CommandComponent({'auto_increment_version': True, 'source': 'REMOTE.WORKSPACE.JOB', 'is_anonymous': False, 'name': 'great_lychee_3718564h18', 'description': None, 'tags': {}, 'properties': {}, 'print_as_yaml': True, 'id': None, 'Resource__source_path': None, 'base_path': PosixPath('.'), 'creation_context': <azure.ai.ml.entities._system_data.SystemData object at 0x7fcb34844790>, 'serialize': <msrest.serialization.Serializer object at 0x7fcb248b74c0>, 'command': 'python main.py --data ${{inputs.data}} --test_train_ratio ${{inputs.test_train_ratio}} --proba_threshold ${{inputs.proba_threshold}} --registered_model_name ${{inputs.registered_model_name}}', 'code': '/subscriptions/e29434d7-433a-4d49-96cb-cd1fc7230c68/resourceGroups/myresourcegroup0001/providers/Microsoft.MachineLearningServices/workspaces/learning-azure-eastus2/codes/e5fb888a-c2ac-4387-a6fd-973402064c71/versions/1', 'environment_variables': {}, 'environment': 'azureml:AzureML-lightgbm-3.2-ubuntu18.04-py37-cpu@latest', 'distribution': None, 'resources': None, 'queue_settings': None, 'version': None, 'latest_version': None, 'schema': None, 'type': 'command', 'display_name': 'xgboost_diabetes', 'is_deterministic': True, 'inputs': {'data': {'type': 'uri_file', 'path': 'azureml://subscriptions/e29434d7-433a-4d49-96cb-cd1fc7230c68/resourcegroups/myResourceGroup0001/workspaces/learning-azure-eastus2/datastores/workspaceblobstore/paths/UI/2023-06-01_132255_UTC/diabetes_prediction_dataset.csv', 'mode': 'ro_mount'}, 'test_train_ratio': {'type': 'string', 'default': '0.25'}, 'proba_threshold': {'type': 'string', 'default': '0.2'}, 'registered_model_name': {'type': 'string', 'default': 'diabetes_xgboost_model'}}, 'outputs': {'default': {'type': 'uri_folder', 'path': 'azureml://datastores/workspaceartifactstore/ExperimentRun/dcid.great_lychee_3718564h18', 'mode': 'rw_mount'}}, 'yaml_str': None, 'other_parameter': {'status': 'Starting', 'parameters': {}}}), 'referenced_control_flow_node_instance_id': None, 'kwargs': {'services': {'Tracking': <azure.ai.ml.entities._job.job_service.JobService object at 0x7fcb24803790>, 'Studio': <azure.ai.ml.entities._job.job_service.JobService object at 0x7fcb38310be0>}, 'status': 'Starting', 'creation_context': <azure.ai.ml.entities._system_data.SystemData object at 0x7fcb34844790>}, 'instance_id': 'e8a48843-3880-4199-b0ea-be20231b1332', 'source': 'BUILDER', 'validate_required_input_not_provided': True, 'limits': None, 'identity': None, 'distribution': None, 'environment_variables': {}, 'environment': 'azureml:AzureML-lightgbm-3.2-ubuntu18.04-py37-cpu@latest', 'resources': {'instance_count': 1, 'shm_size': '2g'}, 'queue_settings': None, 'swept': False})"
            ]
          },
          "execution_count": 75,
          "metadata": {},
          "output_type": "execute_result"
        }
      ],
      "source": [
        "ml_client.create_or_update(job)"
      ]
    },
    {
      "cell_type": "code",
      "execution_count": null,
      "metadata": {
        "jupyter": {
          "outputs_hidden": false,
          "source_hidden": false
        },
        "nteract": {
          "transient": {
            "deleting": false
          }
        }
      },
      "outputs": [],
      "source": []
    }
  ],
  "metadata": {
    "kernel_info": {
      "name": "python310-sdkv2"
    },
    "kernelspec": {
      "display_name": "Python 3.10 - SDK v2",
      "language": "python",
      "name": "python310-sdkv2"
    },
    "language_info": {
      "codemirror_mode": {
        "name": "ipython",
        "version": 3
      },
      "file_extension": ".py",
      "mimetype": "text/x-python",
      "name": "python",
      "nbconvert_exporter": "python",
      "pygments_lexer": "ipython3",
      "version": "3.10.10"
    },
    "microsoft": {
      "host": {
        "AzureML": {
          "notebookHasBeenCompleted": true
        }
      },
      "ms_spell_check": {
        "ms_spell_check_language": "en"
      }
    },
    "nteract": {
      "version": "nteract-front-end@1.0.0"
    }
  },
  "nbformat": 4,
  "nbformat_minor": 2
}
