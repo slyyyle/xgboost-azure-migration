{
 "cells": [
  {
   "attachments": {},
   "cell_type": "markdown",
   "metadata": {},
   "source": [
    "## Inference From Azure ML Endpoint\n",
    "\n",
    "Because our categorical values were encoded, recall the following structure:\n",
    "\n",
    "'gender': {'Female': 0, 'Male': 1, 'Other': 2} \n",
    " \n",
    "'smoking_history': {'No Info': 0,'current': 1,'ever': 2,'former': 3,'never': 4,'not current': 5}\n",
    "\n",
    "To make inference easier and not remember labels, we have to add additional code before the data is passed to encode our data as the model expects it, so that we can in real words when inputting our scored data in the format it was collected (unencoded)\n",
    "\n",
    "Ideally, I'd do this in the scoring script, but I can't for the life of me find where score.py is located in Azure and searching google does not yield any answers on how to edit the scoring script.  \n",
    "\n",
    "Maybe in another project I'll specify the scoring script myself before deployment."
   ]
  },
  {
   "attachments": {},
   "cell_type": "markdown",
   "metadata": {},
   "source": [
    "### Data to be scored:"
   ]
  },
  {
   "cell_type": "code",
   "execution_count": 9,
   "metadata": {},
   "outputs": [],
   "source": [
    "# Gender - Male, Female, Other\n",
    "gender = 'Female'\n",
    "\n",
    "# Age - any integer\n",
    "age = 88 \n",
    "\n",
    "# Hypertension - 0 or 1\n",
    "hypertension = 0\n",
    "\n",
    "# Heart Disease - 0 or 1\n",
    "heart_disease = 0\n",
    "\n",
    "# Smoking History - No Info, current, ever, former, never, not current\n",
    "smoking_history = 'No Info'\n",
    "\n",
    "# BMI - any integer\n",
    "bmi = 55\n",
    "\n",
    "# HbA1c Level - any numeric\n",
    "hba1c_level = 6.3 \n",
    "\n",
    "# Blood Glucose - any integer\n",
    "blood_glucose=280\n",
    "\n",
    "#Mapping Dictionaries\n",
    "gender_dict = {'Female':0,'Male':1,'Other':2}\n",
    "smoking_history_dict = {'No Info': 0,'current': 1,'ever': 2,'former': 3,'never': 4,'not current': 5}\n",
    "label_dict = {0:'Unlikely',1:'Likely'}"
   ]
  },
  {
   "attachments": {},
   "cell_type": "markdown",
   "metadata": {},
   "source": [
    "### API Request Script:"
   ]
  },
  {
   "cell_type": "code",
   "execution_count": 10,
   "metadata": {},
   "outputs": [
    {
     "name": "stdout",
     "output_type": "stream",
     "text": [
      "Diabetes Diagnosis:Likely\n"
     ]
    }
   ],
   "source": [
    "import requests\n",
    "\n",
    "url = 'https://xgboost-endpoint-api.eastus2.inference.ml.azure.com/score'\n",
    "api_key = 'REMOVED FOR PRIVACY'\n",
    "\n",
    "headers = {'Content-Type':'application/json', 'Authorization':('Bearer '+ api_key), 'azureml-model-deployment': 'diabetes-xgboost-model-5' }\n",
    "\n",
    "data = {'input_data':{\n",
    "    \"columns\":[0,1,2,3,4,5,6,7],\n",
    "    \"index\":[0],\n",
    "    \"data\":[[gender_dict[gender],age,hypertension,heart_disease,smoking_history_dict[smoking_history],bmi,hba1c_level,blood_glucose]]\n",
    "}}\n",
    "\n",
    "response = requests.post(url, headers=headers, json=data)\n",
    "\n",
    "if response.status_code == 200:\n",
    "    # Request was successful\n",
    "    result = response.json()\n",
    "    print('Diabetes Diagnosis:' + label_dict[result[0]])\n",
    "else:\n",
    "    # Request failed\n",
    "    print(f'Request failed with status code {response.status_code}')\n",
    "    print(response.text)"
   ]
  }
 ],
 "metadata": {
  "kernelspec": {
   "display_name": "venv",
   "language": "python",
   "name": "python3"
  },
  "language_info": {
   "codemirror_mode": {
    "name": "ipython",
    "version": 3
   },
   "file_extension": ".py",
   "mimetype": "text/x-python",
   "name": "python",
   "nbconvert_exporter": "python",
   "pygments_lexer": "ipython3",
   "version": "3.11.3"
  },
  "orig_nbformat": 4
 },
 "nbformat": 4,
 "nbformat_minor": 2
}
